{
  "cells": [
    {
      "cell_type": "code",
      "source": [
        "import torch\n",
        "import random\n",
        "import re\n",
        "import matplotlib.pyplot as plt\n",
        "import unicodedata\n",
        "from io import open\n",
        "import time\n",
        "import math\n",
        "import matplotlib.pyplot as plt"
      ],
      "execution_count": 1,
      "outputs": [],
      "metadata": {
        "datalore": {
          "sheet_delimiter": false
        },
        "id": "2Mf9fy5RLOsZ"
      }
    },
    {
      "cell_type": "code",
      "source": [
        "device = torch.device(\"cuda\" if torch.cuda.is_available() else \"cpu\")\n",
        "device"
      ],
      "execution_count": 2,
      "outputs": [
        {
          "output_type": "execute_result",
          "data": {
            "text/plain": [
              "device(type='cuda')"
            ]
          },
          "metadata": {},
          "execution_count": 2
        }
      ],
      "metadata": {
        "datalore": {
          "sheet_delimiter": false
        },
        "colab": {
          "base_uri": "https://localhost:8080/"
        },
        "id": "Klzz5ntHLOsb",
        "outputId": "89bb73d8-80db-4432-d3c2-d094bba5dcc0"
      }
    },
    {
      "cell_type": "code",
      "source": [
        "SOS_token = 0\n",
        "EOS_token = 1\n",
        "\n",
        "class Lang:\n",
        "    def __init__(self, name):\n",
        "        self.name = name\n",
        "        self.word2index = {}\n",
        "        self.word2count = {}\n",
        "        self.index2word = {0: \"SOS\", 1: \"EOS\"}\n",
        "        self.n_words = 2\n",
        "\n",
        "    def add_sentence(self, sentence):\n",
        "        for word in sentence.split(\" \"):\n",
        "            self.add_word(word)\n",
        "\n",
        "    def add_word(self, word):\n",
        "        if word not in self.word2index:\n",
        "            self.word2index[word] = self.n_words\n",
        "            self.word2count[word] = 1\n",
        "            self.index2word[self.n_words] = word\n",
        "            self.n_words += 1\n",
        "        else:\n",
        "            self.word2count[word] += 1"
      ],
      "execution_count": 3,
      "outputs": [],
      "metadata": {
        "datalore": {
          "sheet_delimiter": false
        },
        "id": "b1mB5C3qLOsc"
      }
    },
    {
      "cell_type": "code",
      "source": [
        "lang = Lang(\"eng\")\n",
        "lang.add_sentence(\"Hi i m Vova and Danik loh and i loh\")\n",
        "print(lang.index2word)\n",
        "print(lang.word2count)\n",
        "print(lang.word2index)\n",
        "print(lang.n_words)\n",
        "print(lang)"
      ],
      "execution_count": 4,
      "outputs": [
        {
          "output_type": "stream",
          "name": "stdout",
          "text": [
            "{0: 'SOS', 1: 'EOS', 2: 'Hi', 3: 'i', 4: 'm', 5: 'Vova', 6: 'and', 7: 'Danik', 8: 'loh'}\n",
            "{'Hi': 1, 'i': 2, 'm': 1, 'Vova': 1, 'and': 2, 'Danik': 1, 'loh': 2}\n",
            "{'Hi': 2, 'i': 3, 'm': 4, 'Vova': 5, 'and': 6, 'Danik': 7, 'loh': 8}\n",
            "9\n",
            "<__main__.Lang object at 0x7f93072373d0>\n"
          ]
        }
      ],
      "metadata": {
        "datalore": {
          "sheet_delimiter": false
        },
        "colab": {
          "base_uri": "https://localhost:8080/"
        },
        "id": "PDPGROZ0LOsd",
        "outputId": "1f1f636c-71c4-4599-cbf3-4287d3137438"
      }
    },
    {
      "cell_type": "code",
      "source": [
        "def unicode_to_ascii(s):\n",
        "    return \"\".join(c for c in unicodedata.normalize(\"NFD\", s) if unicodedata.category(c) != \"Mn\")\n",
        "\n",
        "def normalize_string(s):\n",
        "    s = unicode_to_ascii(s.lower().strip())\n",
        "    s = re.sub(r\"([.!?])\", r\" \\1\", s)\n",
        "    s = re.sub(r\"[^a-zA-Z.!?]+\", r\" \", s)\n",
        "    return s"
      ],
      "execution_count": 5,
      "outputs": [],
      "metadata": {
        "datalore": {
          "sheet_delimiter": false
        },
        "id": "FeovmgvPLOse"
      }
    },
    {
      "cell_type": "code",
      "source": [
        "def read_langs(lang1, lang2, reverse=False):\n",
        "    lines = open(f\"{lang1}-{lang2}.txt\", encoding=\"utf-8\").read().strip().split(\"\\n\")\n",
        "    pairs = [[normalize_string(s) for s in l.split(\"\\t\")] for l in lines]\n",
        "\n",
        "    if reverse:\n",
        "        pairs = [list(reversed(p)) for p in pairs]\n",
        "        input_lang = Lang(lang2)\n",
        "        output_lang = Lang(lang1)\n",
        "    else:\n",
        "        input_lang = Lang(lang1)\n",
        "        output_lang = Lang(lang2)\n",
        "\n",
        "    return input_lang, output_lang, pairs"
      ],
      "execution_count": 6,
      "outputs": [],
      "metadata": {
        "datalore": {
          "sheet_delimiter": false
        },
        "id": "wbLAbFpjLOsf"
      }
    },
    {
      "cell_type": "code",
      "source": [
        "MAX_LENGTH = 10\n",
        "\n",
        "eng_prefixes = (\n",
        "    \"i am \", \"i m \",\n",
        "    \"he is\", \"he s \",\n",
        "    \"she is\", \"she s \",\n",
        "    \"you are\", \"you re \",\n",
        "    \"we are\", \"we re \",\n",
        "    \"they are\", \"they re \"\n",
        ")\n",
        "\n",
        "def filter_pair(pair, reverse=False):\n",
        "    which_pair = 1 if reverse else 0\n",
        "    return len(pair[0].split(\" \")) < MAX_LENGTH and len(pair[1].split(\" \")) < MAX_LENGTH and pair[which_pair].startswith(eng_prefixes)\n",
        "\n",
        "def filter_pairs(pairs, reverse=False):\n",
        "    return [pair for pair in pairs if filter_pair(pair, reverse)]"
      ],
      "execution_count": 7,
      "outputs": [],
      "metadata": {
        "datalore": {
          "sheet_delimiter": false
        },
        "id": "iOmEigaZLOsg"
      }
    },
    {
      "cell_type": "code",
      "source": [
        "def prepare_data(lang1, lang2, reverse=False):\n",
        "    input_lang, output_lang, pairs = read_langs(lang1, lang2, reverse)\n",
        "    print(f\"Read {len(pairs)} sentence pairs\")\n",
        "    pairs = filter_pairs(pairs, reverse)\n",
        "    print(f\"Trimmed to {len(pairs)} sentence pairs\")\n",
        "    print(\"Counting words...\")\n",
        "    for pair in pairs:\n",
        "        input_lang.add_sentence(pair[0])\n",
        "        output_lang.add_sentence(pair[1])\n",
        "    print(\"Counted words:\")\n",
        "    print(input_lang.name, input_lang.n_words)\n",
        "    print(output_lang.name, output_lang.n_words)\n",
        "    return input_lang, output_lang, pairs\n",
        "\n",
        "input_lang, output_lang, pairs = prepare_data(\"eng\", \"fra\")\n",
        "print(random.choice(pairs))"
      ],
      "execution_count": 10,
      "outputs": [
        {
          "output_type": "stream",
          "name": "stdout",
          "text": [
            "Read 135842 sentence pairs\n",
            "Trimmed to 10599 sentence pairs\n",
            "Counting words...\n",
            "Counted words:\n",
            "eng 2803\n",
            "fra 4345\n",
            "['he s your father .', 'il est ton pere .']\n"
          ]
        }
      ],
      "metadata": {
        "datalore": {
          "sheet_delimiter": false
        },
        "colab": {
          "base_uri": "https://localhost:8080/"
        },
        "id": "aELvzDmwLOsg",
        "outputId": "4c8f279c-b38f-42b6-c841-71f6c81423ed"
      }
    },
    {
      "cell_type": "markdown",
      "source": [
        "# **Creating Model**"
      ],
      "metadata": {
        "datalore": {
          "sheet_delimiter": false
        },
        "id": "Hp71sgxmLOsh"
      }
    },
    {
      "cell_type": "code",
      "source": [
        "class Encoder(torch.nn.Module):\n",
        "    def __init__(self, input_size, hidden_size):\n",
        "        super().__init__()\n",
        "\n",
        "        self.hidden_size = hidden_size\n",
        "        self.input_size = input_size\n",
        "\n",
        "        self.embeddings = torch.nn.Embedding(self.input_size, self.hidden_size)\n",
        "        self.gru = torch.nn.GRU(self.hidden_size, self.hidden_size)\n",
        "\n",
        "    def forward(self, x, hidden):\n",
        "        x = self.embeddings(x).view(1, 1, -1)\n",
        "        x, hidden = self.gru(x, hidden)\n",
        "        return x, hidden\n",
        "\n",
        "    def init_hidden(self):\n",
        "        return torch.randn(1, 1, self.hidden_size, device=device)"
      ],
      "execution_count": 11,
      "outputs": [],
      "metadata": {
        "datalore": {
          "sheet_delimiter": false
        },
        "id": "cLx_TvTKLOsi"
      }
    },
    {
      "cell_type": "code",
      "source": [
        "class DecoderAttention(torch.nn.Module):\n",
        "    def __init__(self, output_size, hidden_size, dropout_p=0.1, max_length=MAX_LENGTH):\n",
        "        super().__init__()\n",
        "\n",
        "        self.output_size = output_size\n",
        "        self.hidden_size = hidden_size\n",
        "        self.dropout_p = dropout_p\n",
        "        self.max_length = max_length\n",
        "\n",
        "        self.embeddings = torch.nn.Embedding(self.output_size, self.hidden_size)\n",
        "        self.attention = torch.nn.Linear(self.hidden_size * 2, self.max_length)\n",
        "        self.attention_combine = torch.nn.Linear(self.hidden_size * 2, self.hidden_size)\n",
        "        self.dropout = torch.nn.Dropout(self.dropout_p)\n",
        "\n",
        "        self.gru = torch.nn.GRU(self.hidden_size, self.hidden_size)\n",
        "        self.out = torch.nn.Linear(self.hidden_size, self.output_size)\n",
        "        self.softmax = torch.nn.Softmax(dim=1)\n",
        "        self.log_softmax = torch.nn.LogSoftmax(dim=1)\n",
        "        self.relu = torch.nn.ReLU()\n",
        "\n",
        "    def forward(self, inp, hidden, encoder_outputs):\n",
        "        embedded = self.embeddings(inp).view(1, 1, -1)\n",
        "        embedded = self.dropout(embedded)\n",
        "\n",
        "        attention_weights = self.softmax(\n",
        "            self.attention(torch.cat((embedded[0], hidden[0]), 1))\n",
        "        )\n",
        "        attention_applied = torch.bmm(attention_weights.unsqueeze(0), encoder_outputs.unsqueeze(0))\n",
        "\n",
        "        output = torch.cat((embedded[0], attention_applied[0]), 1)\n",
        "        output = self.attention_combine(output).unsqueeze(0)\n",
        "        output = self.relu(output)\n",
        "        output, hidden = self.gru(output, hidden)\n",
        "        output = self.log_softmax(self.out(output[0]))\n",
        "        return output, hidden, attention_weights"
      ],
      "execution_count": 12,
      "outputs": [],
      "metadata": {
        "datalore": {
          "sheet_delimiter": false
        },
        "id": "27Mzt7idLOsj"
      }
    },
    {
      "cell_type": "markdown",
      "source": [
        "# **Training**"
      ],
      "metadata": {
        "datalore": {
          "sheet_delimiter": false
        },
        "id": "TPnwjMwXLOsj"
      }
    },
    {
      "cell_type": "code",
      "source": [
        "def indexes_from_sentences(lang, sentence):\n",
        "    return [lang.word2index[word] for word in sentence.split(\" \")]\n",
        "\n",
        "def tensor_from_sentences(lang, sentence):\n",
        "    indexes = indexes_from_sentences(lang, sentence)\n",
        "    indexes.append(EOS_token)\n",
        "    return torch.tensor(indexes, dtype=torch.long, device=device)\n",
        "\n",
        "def tensor_from_pair(pair):\n",
        "    input_tensor = tensor_from_sentences(input_lang, pair[0])\n",
        "    target_tensor = tensor_from_sentences(output_lang, pair[1])\n",
        "    return input_tensor, target_tensor"
      ],
      "execution_count": 13,
      "outputs": [],
      "metadata": {
        "datalore": {
          "sheet_delimiter": false
        },
        "id": "f714DU8nLOsj"
      }
    },
    {
      "cell_type": "code",
      "source": [
        "input_tensor, target_tensor = tensor_from_pair(random.choice(pairs))\n",
        "input_tensor, target_tensor"
      ],
      "execution_count": 14,
      "outputs": [
        {
          "output_type": "execute_result",
          "data": {
            "text/plain": [
              "(tensor([   2,    3,  147,  577,  532, 1325,  695,    4,    1], device='cuda:0'),\n",
              " tensor([   6,  297,   11,  246, 1085, 1150,  129,  701,    5,    1],\n",
              "        device='cuda:0'))"
            ]
          },
          "metadata": {},
          "execution_count": 14
        }
      ],
      "metadata": {
        "datalore": {
          "sheet_delimiter": false
        },
        "colab": {
          "base_uri": "https://localhost:8080/"
        },
        "id": "8kF2yMYXLOsk",
        "outputId": "099ed9c8-5d79-4a9d-dd62-4d427f16c703"
      }
    },
    {
      "cell_type": "code",
      "source": [
        "teacher_forcing_ratio = 0.6\n",
        "\n",
        "def train(input_tensor, target_tensor, encoder, decoder, encoder_optim, decoder_optim, criterion, max_length=MAX_LENGTH):\n",
        "    encoder_hidden = encoder.init_hidden()\n",
        "\n",
        "    encoder_optim.zero_grad()\n",
        "    decoder_optim.zero_grad()\n",
        "\n",
        "    input_length = input_tensor.size(0)\n",
        "    target_length = target_tensor.size(0)\n",
        "\n",
        "    encoder_outputs = torch.zeros(max_length, encoder.hidden_size, device=device)\n",
        "\n",
        "    loss = 0\n",
        "\n",
        "    for idx in range(input_length):\n",
        "        encoder_output, encoder_hidden = encoder(input_tensor[idx], encoder_hidden)\n",
        "        encoder_outputs[idx] = encoder_output[0, 0]\n",
        "    \n",
        "    decoder_input = torch.tensor([[SOS_token]], device=device)\n",
        "    decoder_hidden = encoder_hidden\n",
        "\n",
        "    use_teacher_forcing = True if random.random() < teacher_forcing_ratio else False\n",
        "\n",
        "    if use_teacher_forcing: # With Teacher Forcing\n",
        "        for idx in range(target_length):\n",
        "            decoder_output, decoder_hidden, _ = decoder(decoder_input, decoder_hidden, encoder_outputs)\n",
        "            loss += criterion(decoder_output, target_tensor[idx].unsqueeze(0))\n",
        "            decoder_input = target_tensor[idx]\n",
        "    else: # Without Teacher Forcing\n",
        "        for idx in range(target_length):\n",
        "            decoder_output, decoder_hidden, _ = decoder(decoder_input, decoder_hidden, encoder_outputs)\n",
        "            top_value, top_index = decoder_output.topk(1)\n",
        "            decoder_input = top_index.squeeze().detach()\n",
        "            loss += criterion(decoder_output, target_tensor[idx].unsqueeze(0))\n",
        "            if decoder_input.item() == EOS_token:\n",
        "                break\n",
        "\n",
        "    loss.backward()\n",
        "\n",
        "    encoder_optim.step()\n",
        "    decoder_optim.step()\n",
        "\n",
        "    return loss.item() / target_length"
      ],
      "execution_count": 15,
      "outputs": [],
      "metadata": {
        "datalore": {
          "sheet_delimiter": false
        },
        "id": "2Ic2_FrELOsk"
      }
    },
    {
      "cell_type": "code",
      "source": [
        "def as_minutes(s):\n",
        "    m = math.floor(s / 60)\n",
        "    s -= m * 60\n",
        "    return '%dm %ds' % (m, s)\n",
        "\n",
        "\n",
        "def time_since(since, percent):\n",
        "    now = time.time()\n",
        "    s = now - since\n",
        "    es = s / (percent)\n",
        "    rs = es - s\n",
        "    return '%s (- %s)' % (as_minutes(s), as_minutes(rs))"
      ],
      "execution_count": 16,
      "outputs": [],
      "metadata": {
        "datalore": {
          "sheet_delimiter": false
        },
        "id": "-_cE6LfZLOsl"
      }
    },
    {
      "cell_type": "code",
      "source": [
        "def train_iters(encoder, decoder, n_iters):\n",
        "    start = time.time()\n",
        "\n",
        "    encoder.to(device)\n",
        "    decoder.to(device)\n",
        "\n",
        "    losses = []\n",
        "    total_loss = 0\n",
        "\n",
        "    encoder_optimizer = torch.optim.Adam(encoder.parameters(), lr=0.0001)\n",
        "    decoder_optimizer = torch.optim.Adam(decoder.parameters(), lr=0.0001)\n",
        "    criterion = torch.nn.NLLLoss()\n",
        "    training_pairs = [tensor_from_pair(random.choice(pairs)) for _ in range(n_iters)]\n",
        "\n",
        "    for idx in range(1, n_iters + 1):\n",
        "        training_pair = training_pairs[idx - 1]\n",
        "        input_tensor = training_pair[0]\n",
        "        target_tensor = training_pair[1]\n",
        "\n",
        "        loss = train(input_tensor, target_tensor, encoder, decoder, encoder_optimizer, decoder_optimizer, criterion)\n",
        "        total_loss += loss\n",
        "\n",
        "        if idx % 1000 == 0:\n",
        "            loss_avg = total_loss / 1000\n",
        "            total_loss = 0\n",
        "            losses.append(loss_avg)\n",
        "            t = time_since(start, idx / n_iters)\n",
        "            print(f\"Iter {idx} / {n_iters}\\nLoss {loss_avg}\\nTime {t}\")\n",
        "\n",
        "        plt.plot(losses)"
      ],
      "execution_count": 21,
      "outputs": [],
      "metadata": {
        "datalore": {
          "sheet_delimiter": false
        },
        "id": "K1UmF1LgLOsl"
      }
    },
    {
      "cell_type": "code",
      "source": [
        "def evaluate(encoder, decoder, sentence, max_length=MAX_LENGTH):\n",
        "    with torch.no_grad():\n",
        "        input_tensor = tensor_from_sentences(input_lang, sentence)\n",
        "        input_size = input_tensor.size(0)\n",
        "        encoder_hidden = encoder.init_hidden()\n",
        "\n",
        "        encoder_outputs = torch.zeros(max_length, encoder.hidden_size, device=device)\n",
        "\n",
        "        for idx in range(input_size):\n",
        "            encoder_output, encoder_hidden = encoder(input_tensor[idx].unsqueeze(0), encoder_hidden)\n",
        "            encoder_outputs[idx] += encoder_output[0, 0]\n",
        "\n",
        "        decoder_input = torch.tensor([[SOS_token]], device=device)\n",
        "        decoder_attentions = torch.zeros(max_length, max_length, device=device)\n",
        "\n",
        "        decoder_hidden = encoder_hidden\n",
        "        decoded_words = []\n",
        "\n",
        "        for idx in range(max_length):\n",
        "            decoder_output, decoder_hidden, decoder_attention_weights = decoder(decoder_input, decoder_hidden, encoder_outputs)\n",
        "            decoder_attentions[idx] = decoder_attention_weights.data\n",
        "            top_value, top_index = decoder_output.topk(1)\n",
        "            if top_index.item() == EOS_token:\n",
        "                break\n",
        "            else:\n",
        "                decoded_words.append(output_lang.index2word[top_index.item()])\n",
        "            decoder_input = top_index.squeeze().detach()\n",
        "        return decoded_words"
      ],
      "execution_count": 22,
      "outputs": [],
      "metadata": {
        "datalore": {
          "sheet_delimiter": false
        },
        "id": "QKcKfK1gLOsm"
      }
    },
    {
      "cell_type": "code",
      "source": [
        "def evaluate_randomly(encoder, decoder, n=10):\n",
        "    for idx in range(n):\n",
        "        pair = random.choice(pairs)\n",
        "        print(f\"Eng: {pair[0]}\")\n",
        "        print(f\"Real\\nFra: {pair[1]}\")\n",
        "        predicted_words = evaluate(encoder, decoder, pair[0])\n",
        "        predicted_sentence = \" \".join(predicted_words)\n",
        "        print(f\"Predicted\\nFra: {predicted_sentence}\")\n",
        "        print(\"-\" * 20)"
      ],
      "execution_count": 23,
      "outputs": [],
      "metadata": {
        "datalore": {
          "sheet_delimiter": false
        },
        "id": "a44Nb20ULOsm"
      }
    },
    {
      "cell_type": "code",
      "source": [
        "HIDDEN_SIZE = 256\n",
        "\n",
        "encoder = Encoder(input_size=input_lang.n_words, hidden_size=HIDDEN_SIZE)\n",
        "decoder = DecoderAttention(output_size=output_lang.n_words, hidden_size=HIDDEN_SIZE)\n",
        "\n",
        "train_iters(encoder, decoder, 100000)"
      ],
      "execution_count": 24,
      "outputs": [
        {
          "output_type": "stream",
          "name": "stdout",
          "text": [
            "Iter 1000 / 100000\n",
            "Loss 4.13378606093667\n",
            "Time 0m 39s (- 65m 34s)\n",
            "Iter 2000 / 100000\n",
            "Loss 3.6250693106832936\n",
            "Time 1m 8s (- 56m 4s)\n",
            "Iter 3000 / 100000\n",
            "Loss 3.4548688750426\n",
            "Time 1m 38s (- 53m 4s)\n",
            "Iter 4000 / 100000\n",
            "Loss 3.3432625931679256\n",
            "Time 2m 7s (- 51m 4s)\n",
            "Iter 5000 / 100000\n",
            "Loss 3.2162539437029114\n",
            "Time 2m 36s (- 49m 37s)\n",
            "Iter 6000 / 100000\n",
            "Loss 3.10689033128118\n",
            "Time 3m 5s (- 48m 33s)\n",
            "Iter 7000 / 100000\n",
            "Loss 3.0042298087880743\n",
            "Time 3m 34s (- 47m 33s)\n",
            "Iter 8000 / 100000\n",
            "Loss 2.9027468617151704\n",
            "Time 4m 3s (- 46m 42s)\n",
            "Iter 9000 / 100000\n",
            "Loss 2.9276990097806546\n",
            "Time 4m 32s (- 45m 52s)\n",
            "Iter 10000 / 100000\n",
            "Loss 2.8804792576362193\n",
            "Time 5m 1s (- 45m 11s)\n",
            "Iter 11000 / 100000\n",
            "Loss 2.766846822757947\n",
            "Time 5m 30s (- 44m 31s)\n",
            "Iter 12000 / 100000\n",
            "Loss 2.7514127065342553\n",
            "Time 5m 59s (- 43m 55s)\n",
            "Iter 13000 / 100000\n",
            "Loss 2.727052440203938\n",
            "Time 6m 27s (- 43m 14s)\n",
            "Iter 14000 / 100000\n",
            "Loss 2.69588147437005\n",
            "Time 6m 56s (- 42m 38s)\n",
            "Iter 15000 / 100000\n",
            "Loss 2.5995137309125496\n",
            "Time 7m 25s (- 42m 2s)\n",
            "Iter 16000 / 100000\n",
            "Loss 2.5797569892555976\n",
            "Time 7m 53s (- 41m 27s)\n",
            "Iter 17000 / 100000\n",
            "Loss 2.542917481822626\n",
            "Time 8m 22s (- 40m 55s)\n",
            "Iter 18000 / 100000\n",
            "Loss 2.533023107574855\n",
            "Time 8m 51s (- 40m 21s)\n",
            "Iter 19000 / 100000\n",
            "Loss 2.6016587080584603\n",
            "Time 9m 20s (- 39m 50s)\n",
            "Iter 20000 / 100000\n",
            "Loss 2.5053334120863964\n",
            "Time 9m 49s (- 39m 17s)\n",
            "Iter 21000 / 100000\n",
            "Loss 2.4421983920078434\n",
            "Time 10m 17s (- 38m 44s)\n",
            "Iter 22000 / 100000\n",
            "Loss 2.4660215678860267\n",
            "Time 10m 46s (- 38m 12s)\n",
            "Iter 23000 / 100000\n",
            "Loss 2.404551750792966\n",
            "Time 11m 15s (- 37m 40s)\n",
            "Iter 24000 / 100000\n",
            "Loss 2.405193983455974\n",
            "Time 11m 44s (- 37m 11s)\n",
            "Iter 25000 / 100000\n",
            "Loss 2.32691587805171\n",
            "Time 12m 13s (- 36m 40s)\n",
            "Iter 26000 / 100000\n",
            "Loss 2.356041188816609\n",
            "Time 12m 42s (- 36m 9s)\n",
            "Iter 27000 / 100000\n",
            "Loss 2.288222324542672\n",
            "Time 13m 11s (- 35m 38s)\n",
            "Iter 28000 / 100000\n",
            "Loss 2.289422744548607\n",
            "Time 13m 40s (- 35m 8s)\n",
            "Iter 29000 / 100000\n",
            "Loss 2.253241531281811\n",
            "Time 14m 8s (- 34m 38s)\n",
            "Iter 30000 / 100000\n",
            "Loss 2.30854570065765\n",
            "Time 14m 37s (- 34m 8s)\n",
            "Iter 31000 / 100000\n",
            "Loss 2.142875951803298\n",
            "Time 15m 7s (- 33m 40s)\n",
            "Iter 32000 / 100000\n",
            "Loss 2.2411184410030867\n",
            "Time 15m 37s (- 33m 11s)\n",
            "Iter 33000 / 100000\n",
            "Loss 2.2475562206214406\n",
            "Time 16m 7s (- 32m 43s)\n",
            "Iter 34000 / 100000\n",
            "Loss 2.157129119432637\n",
            "Time 16m 36s (- 32m 14s)\n",
            "Iter 35000 / 100000\n",
            "Loss 2.1609628622360635\n",
            "Time 17m 5s (- 31m 45s)\n",
            "Iter 36000 / 100000\n",
            "Loss 2.035535571705632\n",
            "Time 17m 34s (- 31m 15s)\n",
            "Iter 37000 / 100000\n",
            "Loss 2.1153757723342785\n",
            "Time 18m 3s (- 30m 45s)\n",
            "Iter 38000 / 100000\n",
            "Loss 2.063518031046503\n",
            "Time 18m 33s (- 30m 17s)\n",
            "Iter 39000 / 100000\n",
            "Loss 2.1358000227103155\n",
            "Time 19m 3s (- 29m 48s)\n",
            "Iter 40000 / 100000\n",
            "Loss 2.012976986898695\n",
            "Time 19m 32s (- 29m 18s)\n",
            "Iter 41000 / 100000\n",
            "Loss 1.9870781112001052\n",
            "Time 20m 3s (- 28m 51s)\n",
            "Iter 42000 / 100000\n",
            "Loss 1.989664665356325\n",
            "Time 20m 33s (- 28m 22s)\n",
            "Iter 43000 / 100000\n",
            "Loss 2.0000808340152116\n",
            "Time 21m 3s (- 27m 54s)\n",
            "Iter 44000 / 100000\n",
            "Loss 2.03657893537827\n",
            "Time 21m 32s (- 27m 24s)\n",
            "Iter 45000 / 100000\n",
            "Loss 1.9665186246769786\n",
            "Time 22m 0s (- 26m 54s)\n",
            "Iter 46000 / 100000\n",
            "Loss 1.9123346269632138\n",
            "Time 22m 30s (- 26m 24s)\n",
            "Iter 47000 / 100000\n",
            "Loss 1.940266081772626\n",
            "Time 22m 59s (- 25m 55s)\n",
            "Iter 48000 / 100000\n",
            "Loss 1.8649863884442381\n",
            "Time 23m 27s (- 25m 25s)\n",
            "Iter 49000 / 100000\n",
            "Loss 1.910376522048598\n",
            "Time 23m 56s (- 24m 55s)\n",
            "Iter 50000 / 100000\n",
            "Loss 1.8604164442989575\n",
            "Time 24m 25s (- 24m 25s)\n",
            "Iter 51000 / 100000\n",
            "Loss 1.8794635763507044\n",
            "Time 24m 54s (- 23m 55s)\n",
            "Iter 52000 / 100000\n",
            "Loss 1.8645431914225925\n",
            "Time 25m 22s (- 23m 25s)\n",
            "Iter 53000 / 100000\n",
            "Loss 1.774769316770442\n",
            "Time 25m 50s (- 22m 55s)\n",
            "Iter 54000 / 100000\n",
            "Loss 1.806394904077054\n",
            "Time 26m 18s (- 22m 25s)\n",
            "Iter 55000 / 100000\n",
            "Loss 1.8323423535118963\n",
            "Time 26m 47s (- 21m 55s)\n",
            "Iter 56000 / 100000\n",
            "Loss 1.7823533763800832\n",
            "Time 27m 17s (- 21m 26s)\n",
            "Iter 57000 / 100000\n",
            "Loss 1.8032354277632074\n",
            "Time 27m 49s (- 20m 59s)\n",
            "Iter 58000 / 100000\n",
            "Loss 1.7414147030959493\n",
            "Time 28m 18s (- 20m 29s)\n",
            "Iter 59000 / 100000\n",
            "Loss 1.7827301450068989\n",
            "Time 28m 46s (- 20m 0s)\n",
            "Iter 60000 / 100000\n",
            "Loss 1.663776153165813\n",
            "Time 29m 15s (- 19m 30s)\n",
            "Iter 61000 / 100000\n",
            "Loss 1.6891161389281841\n",
            "Time 29m 44s (- 19m 0s)\n",
            "Iter 62000 / 100000\n",
            "Loss 1.7037544535166207\n",
            "Time 30m 13s (- 18m 31s)\n",
            "Iter 63000 / 100000\n",
            "Loss 1.6914597227601296\n",
            "Time 30m 42s (- 18m 2s)\n",
            "Iter 64000 / 100000\n",
            "Loss 1.7373414170997967\n",
            "Time 31m 11s (- 17m 32s)\n",
            "Iter 65000 / 100000\n",
            "Loss 1.6014140295482802\n",
            "Time 31m 41s (- 17m 3s)\n",
            "Iter 66000 / 100000\n",
            "Loss 1.648029462365499\n",
            "Time 32m 11s (- 16m 34s)\n",
            "Iter 67000 / 100000\n",
            "Loss 1.6020695442425323\n",
            "Time 32m 41s (- 16m 5s)\n",
            "Iter 68000 / 100000\n",
            "Loss 1.5674789483573246\n",
            "Time 33m 11s (- 15m 37s)\n",
            "Iter 69000 / 100000\n",
            "Loss 1.6214222057045462\n",
            "Time 33m 40s (- 15m 7s)\n",
            "Iter 70000 / 100000\n",
            "Loss 1.5999654018091312\n",
            "Time 34m 9s (- 14m 38s)\n",
            "Iter 71000 / 100000\n",
            "Loss 1.6038656719561133\n",
            "Time 34m 38s (- 14m 9s)\n",
            "Iter 72000 / 100000\n",
            "Loss 1.5769618175759674\n",
            "Time 35m 8s (- 13m 40s)\n",
            "Iter 73000 / 100000\n",
            "Loss 1.5783884841297335\n",
            "Time 35m 40s (- 13m 11s)\n",
            "Iter 74000 / 100000\n",
            "Loss 1.5775120738728658\n",
            "Time 36m 10s (- 12m 42s)\n",
            "Iter 75000 / 100000\n",
            "Loss 1.534027412989357\n",
            "Time 36m 40s (- 12m 13s)\n",
            "Iter 76000 / 100000\n",
            "Loss 1.5427715901820198\n",
            "Time 37m 10s (- 11m 44s)\n",
            "Iter 77000 / 100000\n",
            "Loss 1.5647661737330836\n",
            "Time 37m 40s (- 11m 15s)\n",
            "Iter 78000 / 100000\n",
            "Loss 1.4940069205060598\n",
            "Time 38m 10s (- 10m 46s)\n",
            "Iter 79000 / 100000\n",
            "Loss 1.4776040336417782\n",
            "Time 38m 40s (- 10m 16s)\n",
            "Iter 80000 / 100000\n",
            "Loss 1.4969301814238942\n",
            "Time 39m 10s (- 9m 47s)\n",
            "Iter 81000 / 100000\n",
            "Loss 1.4775236894826336\n",
            "Time 39m 41s (- 9m 18s)\n",
            "Iter 82000 / 100000\n",
            "Loss 1.4406719824236545\n",
            "Time 40m 11s (- 8m 49s)\n",
            "Iter 83000 / 100000\n",
            "Loss 1.4479392692958544\n",
            "Time 40m 41s (- 8m 19s)\n",
            "Iter 84000 / 100000\n",
            "Loss 1.402034586555971\n",
            "Time 41m 10s (- 7m 50s)\n",
            "Iter 85000 / 100000\n",
            "Loss 1.4474370701424906\n",
            "Time 41m 40s (- 7m 21s)\n",
            "Iter 86000 / 100000\n",
            "Loss 1.4501341159237262\n",
            "Time 42m 10s (- 6m 51s)\n",
            "Iter 87000 / 100000\n",
            "Loss 1.4630906219851174\n",
            "Time 42m 39s (- 6m 22s)\n",
            "Iter 88000 / 100000\n",
            "Loss 1.4138888659009146\n",
            "Time 43m 9s (- 5m 53s)\n",
            "Iter 89000 / 100000\n",
            "Loss 1.3886126401389172\n",
            "Time 43m 38s (- 5m 23s)\n",
            "Iter 90000 / 100000\n",
            "Loss 1.3361905462691248\n",
            "Time 44m 9s (- 4m 54s)\n",
            "Iter 91000 / 100000\n",
            "Loss 1.3922920656700453\n",
            "Time 44m 39s (- 4m 25s)\n",
            "Iter 92000 / 100000\n",
            "Loss 1.4083128273333572\n",
            "Time 45m 11s (- 3m 55s)\n",
            "Iter 93000 / 100000\n",
            "Loss 1.4265295158707196\n",
            "Time 45m 41s (- 3m 26s)\n",
            "Iter 94000 / 100000\n",
            "Loss 1.3343300948644665\n",
            "Time 46m 16s (- 2m 57s)\n",
            "Iter 95000 / 100000\n",
            "Loss 1.3458486180679186\n",
            "Time 46m 46s (- 2m 27s)\n",
            "Iter 96000 / 100000\n",
            "Loss 1.3669172290719453\n",
            "Time 47m 18s (- 1m 58s)\n",
            "Iter 97000 / 100000\n",
            "Loss 1.4199556401087159\n",
            "Time 47m 49s (- 1m 28s)\n",
            "Iter 98000 / 100000\n",
            "Loss 1.3786617210978773\n",
            "Time 48m 20s (- 0m 59s)\n",
            "Iter 99000 / 100000\n",
            "Loss 1.3236591557269053\n",
            "Time 48m 52s (- 0m 29s)\n",
            "Iter 100000 / 100000\n",
            "Loss 1.3629550661484877\n",
            "Time 49m 24s (- 0m 0s)\n"
          ]
        },
        {
          "output_type": "display_data",
          "data": {
            "image/png": "[encoded data removed]",
            "text/plain": [
              "<Figure size 432x288 with 1 Axes>"
            ]
          },
          "metadata": {
            "needs_background": "light"
          }
        }
      ],
      "metadata": {
        "datalore": {
          "sheet_delimiter": false
        },
        "colab": {
          "base_uri": "https://localhost:8080/",
          "height": 1000
        },
        "id": "7CIqGy0qLOsm",
        "outputId": "3636c13a-891e-4acd-a084-761f42a8063f"
      }
    },
    {
      "cell_type": "code",
      "source": [
        "torch.save(encoder.state_dict(), \"encoder_w.pth\")\n",
        "torch.save(decoder.state_dict(), \"decoder_w.pth\")"
      ],
      "metadata": {
        "id": "nKavlzntMd73"
      },
      "execution_count": 25,
      "outputs": []
    },
    {
      "cell_type": "code",
      "source": [
        "evaluate_randomly(encoder, decoder)"
      ],
      "metadata": {
        "colab": {
          "base_uri": "https://localhost:8080/"
        },
        "id": "T5-zlTwGOKBT",
        "outputId": "4203c238-025e-45f6-adde-ce14fe632147"
      },
      "execution_count": 26,
      "outputs": [
        {
          "output_type": "stream",
          "name": "stdout",
          "text": [
            "Eng: we are all happy to help .\n",
            "Real\n",
            "Fra: nous sommes toutes contentes d aider .\n",
            "Predicted\n",
            "Fra: nous sommes tous contents d aider .\n",
            "--------------------\n",
            "Eng: she is almost as tall as you .\n",
            "Real\n",
            "Fra: elle est presque aussi grande que toi .\n",
            "Predicted\n",
            "Fra: elle est presque aussi grande que toi .\n",
            "--------------------\n",
            "Eng: he is a member in good standing .\n",
            "Real\n",
            "Fra: c est un membre estime .\n",
            "Predicted\n",
            "Fra: c est un de tennis .\n",
            "--------------------\n",
            "Eng: you re big .\n",
            "Real\n",
            "Fra: vous etes grande .\n",
            "Predicted\n",
            "Fra: vous etes grand .\n",
            "--------------------\n",
            "Eng: i m sure everything will be ok .\n",
            "Real\n",
            "Fra: je suis sur que tout se passera bien .\n",
            "Predicted\n",
            "Fra: je suis sur que tout ira bien .\n",
            "--------------------\n",
            "Eng: i m just beginning .\n",
            "Real\n",
            "Fra: je ne fais que commencer .\n",
            "Predicted\n",
            "Fra: je suis simplement que regarder .\n",
            "--------------------\n",
            "Eng: he is full of new ideas .\n",
            "Real\n",
            "Fra: il est plein de nouvelles idees .\n",
            "Predicted\n",
            "Fra: il est plein de nouveau de . .\n",
            "--------------------\n",
            "Eng: they re staying .\n",
            "Real\n",
            "Fra: elles restent .\n",
            "Predicted\n",
            "Fra: ils sont .\n",
            "--------------------\n",
            "Eng: he is my colleague .\n",
            "Real\n",
            "Fra: il est mon collegue .\n",
            "Predicted\n",
            "Fra: c est mon collegue .\n",
            "--------------------\n",
            "Eng: you re embarrassing me .\n",
            "Real\n",
            "Fra: tu me genes .\n",
            "Predicted\n",
            "Fra: vous me fais .\n",
            "--------------------\n"
          ]
        }
      ]
    },
    {
      "cell_type": "code",
      "source": [
        ""
      ],
      "metadata": {
        "id": "Dp0hhlsnOOBS"
      },
      "execution_count": null,
      "outputs": []
    },
    {
      "cell_type": "code",
      "source": [
        ""
      ],
      "metadata": {
        "id": "JkEStNFJOJ97"
      },
      "execution_count": null,
      "outputs": []
    },
    {
      "cell_type": "code",
      "source": [
        ""
      ],
      "metadata": {
        "id": "l-1EXu8EOJ7u"
      },
      "execution_count": null,
      "outputs": []
    },
    {
      "cell_type": "code",
      "source": [
        ""
      ],
      "metadata": {
        "id": "9FFkReGGOJyT"
      },
      "execution_count": null,
      "outputs": []
    }
  ],
  "metadata": {
    "colab": {
      "name": "text_translation.ipynb",
      "provenance": []
    },
    "language_info": {
      "name": "python"
    },
    "kernelspec": {
      "name": "python3",
      "display_name": "Python 3"
    },
    "accelerator": "GPU"
  },
  "nbformat": 4,
  "nbformat_minor": 0
}