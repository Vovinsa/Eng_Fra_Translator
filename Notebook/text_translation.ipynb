{
  "cells": [
    {
      "cell_type": "code",
      "source": [
        "import torch\n",
        "import random\n",
        "import re\n",
        "import matplotlib.pyplot as plt\n",
        "import unicodedata\n",
        "from io import open\n",
        "import time\n",
        "import math\n",
        "import matplotlib.pyplot as plt"
      ],
      "execution_count": 1,
      "outputs": [],
      "metadata": {
        "datalore": {
          "sheet_delimiter": false
        },
        "id": "2Mf9fy5RLOsZ"
      }
    },
    {
      "cell_type": "code",
      "source": [
        "device = torch.device(\"cuda\" if torch.cuda.is_available() else \"cpu\")\n",
        "device"
      ],
      "execution_count": 2,
      "outputs": [
        {
          "output_type": "execute_result",
          "data": {
            "text/plain": [
              "device(type='cuda')"
            ]
          },
          "metadata": {},
          "execution_count": 2
        }
      ],
      "metadata": {
        "datalore": {
          "sheet_delimiter": false
        },
        "colab": {
          "base_uri": "https://localhost:8080/"
        },
        "id": "Klzz5ntHLOsb",
        "outputId": "43ffe440-94e0-466a-8363-df99e0069666"
      }
    },
    {
      "cell_type": "code",
      "source": [
        "SOS_token = 0\n",
        "EOS_token = 1\n",
        "\n",
        "class Lang:\n",
        "    def __init__(self, name):\n",
        "        self.name = name\n",
        "        self.word2index = {}\n",
        "        self.word2count = {}\n",
        "        self.index2word = {0: \"SOS\", 1: \"EOS\"}\n",
        "        self.n_words = 2\n",
        "\n",
        "    def add_sentence(self, sentence):\n",
        "        for word in sentence.split(\" \"):\n",
        "            self.add_word(word)\n",
        "\n",
        "    def add_word(self, word):\n",
        "        if word not in self.word2index:\n",
        "            self.word2index[word] = self.n_words\n",
        "            self.word2count[word] = 1\n",
        "            self.index2word[self.n_words] = word\n",
        "            self.n_words += 1\n",
        "        else:\n",
        "            self.word2count[word] += 1"
      ],
      "execution_count": 3,
      "outputs": [],
      "metadata": {
        "datalore": {
          "sheet_delimiter": false
        },
        "id": "b1mB5C3qLOsc"
      }
    },
    {
      "cell_type": "code",
      "source": [
        "lang = Lang(\"eng\")\n",
        "lang.add_sentence(\"Hi i m Vova and Danik loh and i loh\")\n",
        "print(lang.index2word)\n",
        "print(lang.word2count)\n",
        "print(lang.word2index)\n",
        "print(lang.n_words)\n",
        "print(lang)"
      ],
      "execution_count": 4,
      "outputs": [
        {
          "output_type": "stream",
          "name": "stdout",
          "text": [
            "{0: 'SOS', 1: 'EOS', 2: 'Hi', 3: 'i', 4: 'm', 5: 'Vova', 6: 'and', 7: 'Danik', 8: 'loh'}\n",
            "{'Hi': 1, 'i': 2, 'm': 1, 'Vova': 1, 'and': 2, 'Danik': 1, 'loh': 2}\n",
            "{'Hi': 2, 'i': 3, 'm': 4, 'Vova': 5, 'and': 6, 'Danik': 7, 'loh': 8}\n",
            "9\n",
            "<__main__.Lang object at 0x7f461f824610>\n"
          ]
        }
      ],
      "metadata": {
        "datalore": {
          "sheet_delimiter": false
        },
        "colab": {
          "base_uri": "https://localhost:8080/"
        },
        "id": "PDPGROZ0LOsd",
        "outputId": "c8afd01b-f1ae-4d40-e957-c110572f6d28"
      }
    },
    {
      "cell_type": "code",
      "source": [
        "def unicode_to_ascii(s):\n",
        "    return \"\".join(c for c in unicodedata.normalize(\"NFD\", s) if unicodedata.category(c) != \"Mn\")\n",
        "\n",
        "def normalize_string(s):\n",
        "    s = unicode_to_ascii(s.lower().strip())\n",
        "    s = re.sub(r\"([.!?])\", r\" \\1\", s)\n",
        "    s = re.sub(r\"[^a-zA-Z.!?]+\", r\" \", s)\n",
        "    return s"
      ],
      "execution_count": 5,
      "outputs": [],
      "metadata": {
        "datalore": {
          "sheet_delimiter": false
        },
        "id": "FeovmgvPLOse"
      }
    },
    {
      "cell_type": "code",
      "source": [
        "def read_langs(lang1, lang2, reverse=False):\n",
        "    lines = open(f\"{lang1}-{lang2}.txt\", encoding=\"utf-8\").read().strip().split(\"\\n\")\n",
        "    pairs = [[normalize_string(s) for s in l.split(\"\\t\")] for l in lines]\n",
        "\n",
        "    if reverse:\n",
        "        pairs = [list(reversed(p)) for p in pairs]\n",
        "        input_lang = Lang(lang2)\n",
        "        output_lang = Lang(lang1)\n",
        "    else:\n",
        "        input_lang = Lang(lang1)\n",
        "        output_lang = Lang(lang2)\n",
        "\n",
        "    return input_lang, output_lang, pairs"
      ],
      "execution_count": 7,
      "outputs": [],
      "metadata": {
        "datalore": {
          "sheet_delimiter": false
        },
        "id": "wbLAbFpjLOsf"
      }
    },
    {
      "cell_type": "code",
      "source": [
        "MAX_LENGTH = 10\n",
        "\n",
        "eng_prefixes = (\n",
        "    \"i am \", \"i m \",\n",
        "    \"he is\", \"he s \",\n",
        "    \"she is\", \"she s \",\n",
        "    \"you are\", \"you re \",\n",
        "    \"we are\", \"we re \",\n",
        "    \"they are\", \"they re \"\n",
        ")\n",
        "\n",
        "def filter_pair(pair, reverse=False):\n",
        "    which_pair = 1 if reverse else 0\n",
        "    return len(pair[0].split(\" \")) < MAX_LENGTH and len(pair[1].split(\" \")) < MAX_LENGTH and pair[which_pair].startswith(eng_prefixes)\n",
        "\n",
        "def filter_pairs(pairs, reverse=False):\n",
        "    return [pair for pair in pairs if filter_pair(pair, reverse)]"
      ],
      "execution_count": 23,
      "outputs": [],
      "metadata": {
        "datalore": {
          "sheet_delimiter": false
        },
        "id": "iOmEigaZLOsg"
      }
    },
    {
      "cell_type": "code",
      "source": [
        "def prepare_data(lang1, lang2, reverse=False):\n",
        "    input_lang, output_lang, pairs = read_langs(lang1, lang2, reverse)\n",
        "    print(f\"Read {len(pairs)} sentence pairs\")\n",
        "    pairs = filter_pairs(pairs, reverse)\n",
        "    print(f\"Trimmed to {len(pairs)} sentence pairs\")\n",
        "    print(\"Counting words...\")\n",
        "    for pair in pairs:\n",
        "        input_lang.add_sentence(pair[0])\n",
        "        output_lang.add_sentence(pair[1])\n",
        "    print(\"Counted words:\")\n",
        "    print(input_lang.name, input_lang.n_words)\n",
        "    print(output_lang.name, output_lang.n_words)\n",
        "    return input_lang, output_lang, pairs\n",
        "\n",
        "input_lang, output_lang, pairs = prepare_data(\"eng\", \"fra\")\n",
        "print(random.choice(pairs))"
      ],
      "execution_count": 24,
      "outputs": [
        {
          "output_type": "stream",
          "name": "stdout",
          "text": [
            "Read 135842 sentence pairs\n",
            "Trimmed to 10599 sentence pairs\n",
            "Counting words...\n",
            "Counted words:\n",
            "eng 2803\n",
            "fra 4345\n",
            "['we re housesitting .', 'nous gardons la maison .']\n"
          ]
        }
      ],
      "metadata": {
        "datalore": {
          "sheet_delimiter": false
        },
        "colab": {
          "base_uri": "https://localhost:8080/"
        },
        "id": "aELvzDmwLOsg",
        "outputId": "6e6309fb-47ce-44a4-bfa5-e057c073cc16"
      }
    },
    {
      "cell_type": "markdown",
      "source": [
        "# **Creating Model**"
      ],
      "metadata": {
        "datalore": {
          "sheet_delimiter": false
        },
        "id": "Hp71sgxmLOsh"
      }
    },
    {
      "cell_type": "code",
      "source": [
        "class Encoder(torch.nn.Module):\n",
        "    def __init__(self, input_size, hidden_size):\n",
        "        super().__init__()\n",
        "\n",
        "        self.hidden_size = hidden_size\n",
        "        self.input_size = input_size\n",
        "\n",
        "        self.embeddings = torch.nn.Embedding(self.input_size, self.hidden_size)\n",
        "        self.gru = torch.nn.GRU(self.hidden_size, self.hidden_size)\n",
        "\n",
        "    def forward(self, x, hidden):\n",
        "        x = self.embeddings(x).view(1, 1, -1)\n",
        "        x, hidden = self.gru(x, hidden)\n",
        "        return x, hidden\n",
        "\n",
        "    def init_hidden(self):\n",
        "        return torch.randn(1, 1, self.hidden_size, device=device)"
      ],
      "execution_count": 29,
      "outputs": [],
      "metadata": {
        "datalore": {
          "sheet_delimiter": false
        },
        "id": "cLx_TvTKLOsi"
      }
    },
    {
      "cell_type": "code",
      "source": [
        "class DecoderAttention(torch.nn.Module):\n",
        "    def __init__(self, output_size, hidden_size, dropout_p=0.1, max_length=MAX_LENGTH):\n",
        "        super().__init__()\n",
        "\n",
        "        self.output_size = output_size\n",
        "        self.hidden_size = hidden_size\n",
        "        self.dropout_p = dropout_p\n",
        "        self.max_length = max_length\n",
        "\n",
        "        self.embeddings = torch.nn.Embedding(self.output_size, self.hidden_size)\n",
        "        self.attention = torch.nn.Linear(self.hidden_size * 2, self.max_length)\n",
        "        self.attention_combine = torch.nn.Linear(self.hidden_size * 2, self.hidden_size)\n",
        "        self.dropout = torch.nn.Dropout(self.dropout_p)\n",
        "\n",
        "        self.gru = torch.nn.GRU(self.hidden_size, self.hidden_size)\n",
        "        self.out = torch.nn.Linear(self.hidden_size, self.output_size)\n",
        "        self.softmax = torch.nn.Softmax(dim=1)\n",
        "        self.log_softmax = torch.nn.LogSoftmax(dim=1)\n",
        "        self.relu = torch.nn.ReLU()\n",
        "\n",
        "    def forward(self, inp, hidden, encoder_outputs):\n",
        "        embedded = self.embeddings(inp).view(1, 1, -1)\n",
        "        embedded = self.dropout(embedded)\n",
        "\n",
        "        attention_weights = self.softmax(\n",
        "            self.attention(torch.cat((embedded[0], hidden[0]), 1))\n",
        "        )\n",
        "        attention_applied = torch.bmm(attention_weights.unsqueeze(0), encoder_outputs.unsqueeze(0))\n",
        "\n",
        "        output = torch.cat((embedded[0], attention_applied[0]), 1)\n",
        "        output = self.attention_combine(output).unsqueeze(0)\n",
        "        output = self.relu(output)\n",
        "        output, hidden = self.gru(output, hidden)\n",
        "        output = self.log_softmax(self.out(output[0]))\n",
        "        return output, hidden, attention_weights"
      ],
      "execution_count": 30,
      "outputs": [],
      "metadata": {
        "datalore": {
          "sheet_delimiter": false
        },
        "id": "27Mzt7idLOsj"
      }
    },
    {
      "cell_type": "markdown",
      "source": [
        "# **Training**"
      ],
      "metadata": {
        "datalore": {
          "sheet_delimiter": false
        },
        "id": "TPnwjMwXLOsj"
      }
    },
    {
      "cell_type": "code",
      "source": [
        "def indexes_from_sentences(lang, sentence):\n",
        "    return [lang.word2index[word] for word in sentence.split(\" \")]\n",
        "\n",
        "def tensor_from_sentences(lang, sentence):\n",
        "    indexes = indexes_from_sentences(lang, sentence)\n",
        "    indexes.append(EOS_token)\n",
        "    return torch.tensor(indexes, dtype=torch.long, device=device)\n",
        "\n",
        "def tensor_from_pair(pair):\n",
        "    input_tensor = tensor_from_sentences(input_lang, pair[0])\n",
        "    target_tensor = tensor_from_sentences(output_lang, pair[1])\n",
        "    return input_tensor, target_tensor"
      ],
      "execution_count": 31,
      "outputs": [],
      "metadata": {
        "datalore": {
          "sheet_delimiter": false
        },
        "id": "f714DU8nLOsj"
      }
    },
    {
      "cell_type": "code",
      "source": [
        "input_tensor, target_tensor = tensor_from_pair(random.choice(pairs))\n",
        "input_tensor, target_tensor"
      ],
      "execution_count": 32,
      "outputs": [
        {
          "output_type": "execute_result",
          "data": {
            "text/plain": [
              "(tensor([129,  78, 147, 487, 284,   4,   1], device='cuda:0'),\n",
              " tensor([118, 245, 214, 246, 489,   5,   1], device='cuda:0'))"
            ]
          },
          "metadata": {},
          "execution_count": 32
        }
      ],
      "metadata": {
        "datalore": {
          "sheet_delimiter": false
        },
        "colab": {
          "base_uri": "https://localhost:8080/"
        },
        "id": "8kF2yMYXLOsk",
        "outputId": "bcf74e53-6ace-4d2c-d1a5-b9de2bfb244b"
      }
    },
    {
      "cell_type": "code",
      "source": [
        "teacher_forcing_ration = 0.5\n",
        "\n",
        "def train(input_tensor, target_tensor, encoder, decoder, encoder_optim, decoder_optim, criterion, max_length=MAX_LENGTH):\n",
        "    encoder_hidden = encoder.init_hidden()\n",
        "\n",
        "    encoder_optim.zero_grad()\n",
        "    decoder_optim.zero_grad()\n",
        "\n",
        "    input_length = input_tensor.size(0)\n",
        "    target_length = target_tensor.size(0)\n",
        "\n",
        "    encoder_outputs = torch.zeros(max_length, encoder.hidden_size, device=device)\n",
        "\n",
        "    loss = 0\n",
        "\n",
        "    for idx in range(input_length):\n",
        "        encoder_output, encoder_hidden = encoder(input_tensor[idx], encoder_hidden)\n",
        "        encoder_outputs[idx] = encoder_output[0, 0]\n",
        "    \n",
        "    decoder_input = torch.tensor([[SOS_token]], device=device)\n",
        "    decoder_hidden = encoder_hidden\n",
        "\n",
        "    use_teacher_forcing = True if random.random() < teacher_forcing_ration else False\n",
        "\n",
        "    if use_teacher_forcing: # With Teacher Forcing\n",
        "        for idx in range(target_length):\n",
        "            decoder_output, decoder_hidden, _ = decoder(decoder_input, decoder_hidden, encoder_outputs)\n",
        "            loss += criterion(decoder_output, target_tensor[idx].unsqueeze(0))\n",
        "            decoder_input = target_tensor[idx]\n",
        "    else: # Without Teacher Forcing\n",
        "        for idx in range(target_length):\n",
        "            decoder_output, decoder_hidden, _ = decoder(decoder_input, decoder_hidden, encoder_outputs)\n",
        "            top_value, top_index = decoder_output.topk(1)\n",
        "            decoder_input = top_index.squeeze().detach()\n",
        "            loss += criterion(decoder_output, target_tensor[idx].unsqueeze(0))\n",
        "            if decoder_input.item() == EOS_token:\n",
        "                break\n",
        "\n",
        "    loss.backward()\n",
        "\n",
        "    encoder_optim.step()\n",
        "    decoder_optim.step()\n",
        "\n",
        "    return loss.item() / target_length"
      ],
      "execution_count": 33,
      "outputs": [],
      "metadata": {
        "datalore": {
          "sheet_delimiter": false
        },
        "id": "2Ic2_FrELOsk"
      }
    },
    {
      "cell_type": "code",
      "source": [
        "def as_minutes(s):\n",
        "    m = math.floor(s / 60)\n",
        "    s -= m * 60\n",
        "    return '%dm %ds' % (m, s)\n",
        "\n",
        "\n",
        "def time_since(since, percent):\n",
        "    now = time.time()\n",
        "    s = now - since\n",
        "    es = s / (percent)\n",
        "    rs = es - s\n",
        "    return '%s (- %s)' % (as_minutes(s), as_minutes(rs))"
      ],
      "execution_count": 34,
      "outputs": [],
      "metadata": {
        "datalore": {
          "sheet_delimiter": false
        },
        "id": "-_cE6LfZLOsl"
      }
    },
    {
      "cell_type": "code",
      "source": [
        "def train_iters(encoder, decoder, n_iters):\n",
        "    start = time.time()\n",
        "\n",
        "    encoder.to(device)\n",
        "    decoder.to(device)\n",
        "\n",
        "    losses = []\n",
        "    total_loss = 0\n",
        "\n",
        "    encoder_optimizer = torch.optim.Adam(encoder.parameters(), lr=0.001)\n",
        "    decoder_optimizer = torch.optim.Adam(decoder.parameters(), lr=0.001)\n",
        "    criterion = torch.nn.NLLLoss()\n",
        "    training_pairs = [tensor_from_pair(random.choice(pairs)) for _ in range(n_iters)]\n",
        "\n",
        "    for idx in range(1, n_iters + 1):\n",
        "        training_pair = training_pairs[idx - 1]\n",
        "        input_tensor = training_pair[0]\n",
        "        target_tensor = training_pair[1]\n",
        "\n",
        "        loss = train(input_tensor, target_tensor, encoder, decoder, encoder_optimizer, decoder_optimizer, criterion)\n",
        "        total_loss += loss\n",
        "\n",
        "        if idx % 1000 == 0:\n",
        "            loss_avg = total_loss / 1000\n",
        "            total_loss = 0\n",
        "            losses.append(loss_avg)\n",
        "            t = time_since(start, idx / n_iters)\n",
        "            print(f\"Iter {idx} / {n_iters}\\nLoss {loss_avg}\\nTime {t}\")\n",
        "\n",
        "        plt.plot(losses)"
      ],
      "execution_count": 39,
      "outputs": [],
      "metadata": {
        "datalore": {
          "sheet_delimiter": false
        },
        "id": "K1UmF1LgLOsl"
      }
    },
    {
      "cell_type": "code",
      "source": [
        "def evaluate(encoder, decoder, sentence, max_length=MAX_LENGTH):\n",
        "    with torch.no_grad():\n",
        "        input_tensor = tensor_from_sentences(input_lang, sentence)\n",
        "        input_size = input_tensor.size(0)\n",
        "        encoder_hidden = encoder.init_hidden()\n",
        "\n",
        "        encoder_outputs = torch.zeros(max_length, encoder.hidden_size, device=device)\n",
        "\n",
        "        for idx in range(input_size):\n",
        "            encoder_output, encoder_hidden = encoder(input_tensor[idx].unsqueeze(0), encoder_hidden)\n",
        "            encoder_outputs[idx] += encoder_output[0, 0]\n",
        "\n",
        "        decoder_input = torch.tensor([[SOS_token]], device=device)\n",
        "        decoder_attentions = torch.zeros(max_length, max_length, device=device)\n",
        "\n",
        "        decoder_hidden = encoder_hidden\n",
        "        decoded_words = []\n",
        "\n",
        "        for idx in range(max_length):\n",
        "            decoder_output, decoder_hidden, decoder_attention_weights = decoder(decoder_input, decoder_hidden, encoder_outputs)\n",
        "            decoder_attentions[idx] = decoder_attention_weights.data\n",
        "            top_value, top_index = decoder_output.topk(1)\n",
        "            if top_index.item() == EOS_token:\n",
        "                break\n",
        "            else:\n",
        "                decoded_words.append(output_lang.index2word[top_index.item()])\n",
        "            decoder_input = top_index.squeeze().detach()\n",
        "        return decoded_words"
      ],
      "execution_count": 36,
      "outputs": [],
      "metadata": {
        "datalore": {
          "sheet_delimiter": false
        },
        "id": "QKcKfK1gLOsm"
      }
    },
    {
      "cell_type": "code",
      "source": [
        "def evaluate_randomly(encoder, decoder, n=10):\n",
        "    for idx in range(n):\n",
        "        pair = random.choice(pairs)\n",
        "        print(f\"Eng: {pair[0]}\")\n",
        "        print(f\"Real\\nFra: {pair[1]}\")\n",
        "        predicted_words = evaluate(encoder, decoder, pair[0])\n",
        "        predicted_sentence = \" \".join(predicted_words)\n",
        "        print(f\"Predicted\\nFra: {predicted_sentence}\")\n",
        "        print(\"-\" * 20)"
      ],
      "execution_count": 37,
      "outputs": [],
      "metadata": {
        "datalore": {
          "sheet_delimiter": false
        },
        "id": "a44Nb20ULOsm"
      }
    },
    {
      "cell_type": "code",
      "source": [
        "HIDDEN_SIZE = 256\n",
        "\n",
        "encoder = Encoder(input_size=input_lang.n_words, hidden_size=HIDDEN_SIZE)\n",
        "decoder = DecoderAttention(output_size=output_lang.n_words, hidden_size=HIDDEN_SIZE)\n",
        "\n",
        "encoder.load_state_dict(torch.load(\"encoder_w.pth\"))\n",
        "decoder.load_state_dict(torch.load(\"decoder_w.pth\"))\n",
        "\n",
        "train_iters(encoder, decoder, 20000)"
      ],
      "execution_count": 48,
      "outputs": [
        {
          "output_type": "stream",
          "name": "stdout",
          "text": [
            "Iter 1000 / 20000\n",
            "Loss 1.4870882198742466\n",
            "Time 0m 29s (- 9m 18s)\n",
            "Iter 2000 / 20000\n",
            "Loss 1.6841315216683683\n",
            "Time 0m 55s (- 8m 17s)\n",
            "Iter 3000 / 20000\n",
            "Loss 1.7497583538720782\n",
            "Time 1m 21s (- 7m 42s)\n",
            "Iter 4000 / 20000\n",
            "Loss 1.630925012983571\n",
            "Time 1m 47s (- 7m 10s)\n",
            "Iter 5000 / 20000\n",
            "Loss 1.7044804478715327\n",
            "Time 2m 13s (- 6m 40s)\n",
            "Iter 6000 / 20000\n",
            "Loss 1.6316950645576276\n",
            "Time 2m 39s (- 6m 11s)\n",
            "Iter 7000 / 20000\n",
            "Loss 1.6494741248351117\n",
            "Time 3m 5s (- 5m 43s)\n",
            "Iter 8000 / 20000\n",
            "Loss 1.5456483150770732\n",
            "Time 3m 31s (- 5m 17s)\n",
            "Iter 9000 / 20000\n",
            "Loss 1.6190574551910644\n",
            "Time 3m 58s (- 4m 51s)\n",
            "Iter 10000 / 20000\n",
            "Loss 1.4921178265895507\n",
            "Time 4m 24s (- 4m 24s)\n",
            "Iter 11000 / 20000\n",
            "Loss 1.4675209128153817\n",
            "Time 4m 50s (- 3m 57s)\n",
            "Iter 12000 / 20000\n",
            "Loss 1.5199660112156272\n",
            "Time 5m 16s (- 3m 31s)\n",
            "Iter 13000 / 20000\n",
            "Loss 1.506842292833188\n",
            "Time 5m 43s (- 3m 4s)\n",
            "Iter 14000 / 20000\n",
            "Loss 1.5315754655768599\n",
            "Time 6m 9s (- 2m 38s)\n",
            "Iter 15000 / 20000\n",
            "Loss 1.409432038872416\n",
            "Time 6m 35s (- 2m 11s)\n",
            "Iter 16000 / 20000\n",
            "Loss 1.3709994388695734\n",
            "Time 7m 1s (- 1m 45s)\n",
            "Iter 17000 / 20000\n",
            "Loss 1.4001547735396784\n",
            "Time 7m 27s (- 1m 18s)\n",
            "Iter 18000 / 20000\n",
            "Loss 1.404516302275526\n",
            "Time 7m 53s (- 0m 52s)\n",
            "Iter 19000 / 20000\n",
            "Loss 1.3902844296279526\n",
            "Time 8m 19s (- 0m 26s)\n",
            "Iter 20000 / 20000\n",
            "Loss 1.3606261636633958\n",
            "Time 8m 45s (- 0m 0s)\n"
          ]
        },
        {
          "output_type": "display_data",
          "data": {
            "image/png": "[encoded data removed]",
            "text/plain": [
              "<Figure size 432x288 with 1 Axes>"
            ]
          },
          "metadata": {
            "needs_background": "light"
          }
        }
      ],
      "metadata": {
        "datalore": {
          "sheet_delimiter": false
        },
        "colab": {
          "base_uri": "https://localhost:8080/",
          "height": 1000
        },
        "id": "7CIqGy0qLOsm",
        "outputId": "09f51417-5bc0-4e00-ee6f-a5d3b5d57088"
      }
    },
    {
      "cell_type": "code",
      "source": [
        "torch.save(encoder.state_dict(), \"encoder_w.pth\")\n",
        "torch.save(decoder.state_dict(), \"encoder_w.pth\")"
      ],
      "metadata": {
        "id": "nKavlzntMd73"
      },
      "execution_count": 50,
      "outputs": []
    },
    {
      "cell_type": "code",
      "source": [
        "encoder = Encoder(input_size=input_lang.n_words, hidden_size=HIDDEN_SIZE)\n",
        "decoder = DecoderAttention(output_size=output_lang.n_words, hidden_size=HIDDEN_SIZE)\n",
        "\n",
        "encoder.load_state_dict(torch.load(\"encoder_w.pth\"))\n",
        "decoder.load_state_dict(torch.load(\"decoder_w.pth\"))\n",
        "\n",
        "encoder.to(device)\n",
        "decoder.to(device)"
      ],
      "metadata": {
        "colab": {
          "base_uri": "https://localhost:8080/"
        },
        "id": "jGRN8Ta0PuK0",
        "outputId": "ce849a73-b81e-4917-a51d-bdaa8a29ea01"
      },
      "execution_count": 42,
      "outputs": [
        {
          "output_type": "execute_result",
          "data": {
            "text/plain": [
              "DecoderAttention(\n",
              "  (embeddings): Embedding(4345, 256)\n",
              "  (attention): Linear(in_features=512, out_features=10, bias=True)\n",
              "  (attention_combine): Linear(in_features=512, out_features=256, bias=True)\n",
              "  (dropout): Dropout(p=0.1, inplace=False)\n",
              "  (gru): GRU(256, 256)\n",
              "  (out): Linear(in_features=256, out_features=4345, bias=True)\n",
              "  (softmax): Softmax(dim=1)\n",
              "  (log_softmax): LogSoftmax(dim=1)\n",
              "  (relu): ReLU()\n",
              ")"
            ]
          },
          "metadata": {},
          "execution_count": 42
        }
      ]
    },
    {
      "cell_type": "code",
      "source": [
        "evaluate_randomly(encoder, decoder)"
      ],
      "metadata": {
        "colab": {
          "base_uri": "https://localhost:8080/"
        },
        "id": "T5-zlTwGOKBT",
        "outputId": "735bfd77-b198-4c0d-bd93-bc82acf12efc"
      },
      "execution_count": 43,
      "outputs": [
        {
          "output_type": "stream",
          "name": "stdout",
          "text": [
            "Eng: i m not so sure .\n",
            "Real\n",
            "Fra: je n en suis pas si sure !\n",
            "Predicted\n",
            "Fra: je n en suis pas si je .\n",
            "--------------------\n",
            "Eng: they are loyal to their master .\n",
            "Real\n",
            "Fra: ils sont loyaux envers leur maitre .\n",
            "Predicted\n",
            "Fra: ils sont des prete a leur . .\n",
            "--------------------\n",
            "Eng: you are lying .\n",
            "Real\n",
            "Fra: vous mentez .\n",
            "Predicted\n",
            "Fra: vous etes en train de mentir .\n",
            "--------------------\n",
            "Eng: they re small .\n",
            "Real\n",
            "Fra: elles sont petites .\n",
            "Predicted\n",
            "Fra: elles sont en train de parler .\n",
            "--------------------\n",
            "Eng: you are too critical of others shortcomings .\n",
            "Real\n",
            "Fra: tu es trop critique des defauts des autres .\n",
            "Predicted\n",
            "Fra: tu es trop critique de de critique des autres .\n",
            "--------------------\n",
            "Eng: we re sensitive .\n",
            "Real\n",
            "Fra: nous sommes sensibles .\n",
            "Predicted\n",
            "Fra: nous sommes sensible .\n",
            "--------------------\n",
            "Eng: you re demented .\n",
            "Real\n",
            "Fra: vous etes fous .\n",
            "Predicted\n",
            "Fra: tu es fous .\n",
            "--------------------\n",
            "Eng: i am afraid that you will get lost .\n",
            "Real\n",
            "Fra: je crains que tu te perdes .\n",
            "Predicted\n",
            "Fra: je crains peur qu il .\n",
            "--------------------\n",
            "Eng: i m disappointed in you .\n",
            "Real\n",
            "Fra: vous me decevez .\n",
            "Predicted\n",
            "Fra: je suis decois toi .\n",
            "--------------------\n",
            "Eng: i m not so sure anymore .\n",
            "Real\n",
            "Fra: je n en suis plus aussi certain .\n",
            "Predicted\n",
            "Fra: je n suis plus aussi sur .\n",
            "--------------------\n"
          ]
        }
      ]
    },
    {
      "cell_type": "code",
      "source": [
        ""
      ],
      "metadata": {
        "id": "Dp0hhlsnOOBS"
      },
      "execution_count": null,
      "outputs": []
    },
    {
      "cell_type": "code",
      "source": [
        ""
      ],
      "metadata": {
        "id": "JkEStNFJOJ97"
      },
      "execution_count": null,
      "outputs": []
    },
    {
      "cell_type": "code",
      "source": [
        ""
      ],
      "metadata": {
        "id": "l-1EXu8EOJ7u"
      },
      "execution_count": null,
      "outputs": []
    },
    {
      "cell_type": "code",
      "source": [
        ""
      ],
      "metadata": {
        "id": "9FFkReGGOJyT"
      },
      "execution_count": null,
      "outputs": []
    }
  ],
  "metadata": {
    "colab": {
      "name": "text_translation.ipynb",
      "provenance": []
    },
    "language_info": {
      "name": "python"
    },
    "kernelspec": {
      "name": "python3",
      "display_name": "Python 3"
    },
    "accelerator": "GPU"
  },
  "nbformat": 4,
  "nbformat_minor": 0
}